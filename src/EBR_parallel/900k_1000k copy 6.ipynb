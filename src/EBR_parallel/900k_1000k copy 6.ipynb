{
 "cells": [
  {
   "cell_type": "code",
   "execution_count": 1,
   "metadata": {},
   "outputs": [
    {
     "name": "stdout",
     "output_type": "stream",
     "text": [
      "['datafordelerOpdateringstid', 'adressebetegnelse', 'dørbetegnelse', 'etagebetegnelse', 'forretningshændelse', 'forretningsområde', 'forretningsproces', 'id_lokalId', 'id_namespace', 'registreringFra', 'registreringsaktør', 'status', 'virkningFra', 'virkningsaktør', 'husnummer', 'virkningTil']\n",
      "1144796\n"
     ]
    },
    {
     "name": "stderr",
     "output_type": "stream",
     "text": [
      "C:\\Users\\viet-intel\\AppData\\Local\\Temp\\ipykernel_25412\\2232746904.py:15: SettingWithCopyWarning: \n",
      "A value is trying to be set on a copy of a slice from a DataFrame.\n",
      "Try using .loc[row_indexer,col_indexer] = value instead\n",
      "\n",
      "See the caveats in the documentation: https://pandas.pydata.org/pandas-docs/stable/user_guide/indexing.html#returning-a-view-versus-a-copy\n",
      "  bfe_id['BFE'] = \"\"\n"
     ]
    },
    {
     "data": {
      "text/html": [
       "<div>\n",
       "<style scoped>\n",
       "    .dataframe tbody tr th:only-of-type {\n",
       "        vertical-align: middle;\n",
       "    }\n",
       "\n",
       "    .dataframe tbody tr th {\n",
       "        vertical-align: top;\n",
       "    }\n",
       "\n",
       "    .dataframe thead th {\n",
       "        text-align: right;\n",
       "    }\n",
       "</style>\n",
       "<table border=\"1\" class=\"dataframe\">\n",
       "  <thead>\n",
       "    <tr style=\"text-align: right;\">\n",
       "      <th></th>\n",
       "      <th>id_lokalId</th>\n",
       "      <th>BFE</th>\n",
       "    </tr>\n",
       "  </thead>\n",
       "  <tbody>\n",
       "    <tr>\n",
       "      <th>0</th>\n",
       "      <td>39705cf3-35c5-4188-96a8-e0d00fbb80c1</td>\n",
       "      <td></td>\n",
       "    </tr>\n",
       "    <tr>\n",
       "      <th>1</th>\n",
       "      <td>bc47dd8d-8e2b-4153-8e5b-dc1a4962d693</td>\n",
       "      <td></td>\n",
       "    </tr>\n",
       "    <tr>\n",
       "      <th>2</th>\n",
       "      <td>c61e115e-aebf-4e03-a231-d03ace663015</td>\n",
       "      <td></td>\n",
       "    </tr>\n",
       "    <tr>\n",
       "      <th>3</th>\n",
       "      <td>9857d495-3cff-4bfd-aa6b-c18519553a86</td>\n",
       "      <td></td>\n",
       "    </tr>\n",
       "    <tr>\n",
       "      <th>4</th>\n",
       "      <td>93910aee-ca5b-4b44-b896-aab7b0bfff11</td>\n",
       "      <td></td>\n",
       "    </tr>\n",
       "  </tbody>\n",
       "</table>\n",
       "</div>"
      ],
      "text/plain": [
       "                             id_lokalId BFE\n",
       "0  39705cf3-35c5-4188-96a8-e0d00fbb80c1    \n",
       "1  bc47dd8d-8e2b-4153-8e5b-dc1a4962d693    \n",
       "2  c61e115e-aebf-4e03-a231-d03ace663015    \n",
       "3  9857d495-3cff-4bfd-aa6b-c18519553a86    \n",
       "4  93910aee-ca5b-4b44-b896-aab7b0bfff11    "
      ]
     },
     "metadata": {},
     "output_type": "display_data"
    },
    {
     "name": "stdout",
     "output_type": "stream",
     "text": [
      "Error making the API call: ('Connection aborted.', ConnectionResetError(10054, 'An existing connection was forcibly closed by the remote host', None, 10054, None))\n",
      "13202\n"
     ]
    }
   ],
   "source": [
    "import pandas as pd\n",
    "\n",
    "# Load pickle file into dataframe\n",
    "path = r\"C:\\Users\\viet-intel\\boligpriser\\data\\output\\DAR.pkl\"\n",
    "\n",
    "DAR = pd.read_pickle(path)\n",
    "\n",
    "print(list(DAR.columns))\n",
    "print(len(DAR))\n",
    "\n",
    "# select the columns id\n",
    "bfe_id = DAR[['id_lokalId']]\n",
    "\n",
    "# adding empty column bfe to the dataframe\n",
    "bfe_id['BFE'] = \"\"\n",
    "\n",
    "display(bfe_id.head())\n",
    "len(bfe_id)\n",
    "\n",
    "import requests\n",
    "import pandas as pd\n",
    "\n",
    "def get_data_from_api(adresse_ids):\n",
    "    url = f\"https://services.datafordeler.dk/EBR/Ejendomsbeliggenhed/1/rest/BFEnrAdresse?Adresseid={adresse_ids}&username=ANLVUSSNAP&password=Essvietcc567!\"\n",
    "    \n",
    "    try:\n",
    "        response = requests.get(url)\n",
    "        response.raise_for_status()\n",
    "        return response.json()\n",
    "    except requests.exceptions.RequestException as e:\n",
    "        print(\"Error making the API call:\", e)\n",
    "        return None\n",
    "    except ValueError as ve:\n",
    "        print(\"Error processing JSON response:\", ve)\n",
    "        return None\n",
    "\n",
    "def chunker(seq, size):\n",
    "    # Function to divide the list into chunks of specified size\n",
    "    return (seq[pos:pos + size] for pos in range(0, len(seq), size))\n",
    "\n",
    "# Load the dataframe\n",
    "# region_hovedstad_df = pd.read_csv('your_data.csv')\n",
    "\n",
    "# Select the first 1000 rows of the dataframe\n",
    "adresse_ids = DAR['id_lokalId'].iloc[900000:1000000].str.strip().tolist()\n",
    "\n",
    "df_list = []\n",
    "for chunk in chunker(adresse_ids, 20):\n",
    "    adresse_ids_str = '|'.join(chunk)\n",
    "    response_data = get_data_from_api(adresse_ids_str)\n",
    "    if response_data and 'features' in response_data:\n",
    "        for feature in response_data['features']:\n",
    "            properties = feature['properties']\n",
    "            df_list.append(properties)\n",
    "\n",
    "# Convert the list of dictionaries to a DataFrame\n",
    "bfe_df = pd.DataFrame(df_list)\n",
    "print(len(bfe_df))\n",
    "\n",
    "# save to pickle file\n",
    "bfe_df.to_pickle(r\"C:\\Users\\viet-intel\\boligpriser\\data\\output\\EBR\\EBR_900k_1000k.pkl\")"
   ]
  },
  {
   "cell_type": "code",
   "execution_count": null,
   "metadata": {},
   "outputs": [],
   "source": []
  }
 ],
 "metadata": {
  "kernelspec": {
   "display_name": "bolig_py38",
   "language": "python",
   "name": "python3"
  },
  "language_info": {
   "codemirror_mode": {
    "name": "ipython",
    "version": 3
   },
   "file_extension": ".py",
   "mimetype": "text/x-python",
   "name": "python",
   "nbconvert_exporter": "python",
   "pygments_lexer": "ipython3",
   "version": "3.8.17"
  },
  "orig_nbformat": 4
 },
 "nbformat": 4,
 "nbformat_minor": 2
}
