{
 "cells": [
  {
   "cell_type": "code",
   "execution_count": 1,
   "metadata": {},
   "outputs": [
    {
     "name": "stdout",
     "output_type": "stream",
     "text": [
      "['datafordelerOpdateringstid', 'adressebetegnelse', 'dørbetegnelse', 'etagebetegnelse', 'forretningshændelse', 'forretningsområde', 'forretningsproces', 'id_lokalId', 'id_namespace', 'registreringFra', 'registreringsaktør', 'status', 'virkningFra', 'virkningsaktør', 'husnummer', 'virkningTil']\n",
      "1144796\n"
     ]
    }
   ],
   "source": [
    "import pandas as pd\n",
    "\n",
    "# Load pickle file into dataframe\n",
    "path = r\"C:\\Users\\viet-intel\\boligpriser\\data\\output\\DAR.pkl\"\n",
    "\n",
    "DAR = pd.read_pickle(path)\n",
    "\n",
    "print(list(DAR.columns))\n",
    "print(len(DAR))"
   ]
  },
  {
   "cell_type": "code",
   "execution_count": null,
   "metadata": {},
   "outputs": [],
   "source": [
    "# select the columns id\n",
    "bfe_id = DAR[['id_lokalId']]\n",
    "\n",
    "# adding empty column bfe to the dataframe\n",
    "bfe_id['BFE'] = \"\"\n",
    "\n",
    "display(bfe_id.head())\n",
    "len(bfe_id)"
   ]
  },
  {
   "cell_type": "code",
   "execution_count": 3,
   "metadata": {},
   "outputs": [
    {
     "name": "stdout",
     "output_type": "stream",
     "text": [
      "11099\n"
     ]
    }
   ],
   "source": [
    "import requests\n",
    "import pandas as pd\n",
    "\n",
    "def get_data_from_api(adresse_ids):\n",
    "    url = f\"https://services.datafordeler.dk/EBR/Ejendomsbeliggenhed/1/rest/BFEnrAdresse?Adresseid={adresse_ids}&username=ANLVUSSNAP&password=Essvietcc567!\"\n",
    "    \n",
    "    try:\n",
    "        response = requests.get(url)\n",
    "        response.raise_for_status()\n",
    "        return response.json()\n",
    "    except requests.exceptions.RequestException as e:\n",
    "        print(\"Error making the API call:\", e)\n",
    "        return None\n",
    "    except ValueError as ve:\n",
    "        print(\"Error processing JSON response:\", ve)\n",
    "        return None\n",
    "\n",
    "def chunker(seq, size):\n",
    "    # Function to divide the list into chunks of specified size\n",
    "    return (seq[pos:pos + size] for pos in range(0, len(seq), size))\n",
    "\n",
    "# Load the dataframe\n",
    "# region_hovedstad_df = pd.read_csv('your_data.csv')\n",
    "\n",
    "# Select the first 1000 rows of the dataframe\n",
    "adresse_ids = DAR['id_lokalId'].iloc[100000:150000].str.strip().tolist()\n",
    "\n",
    "df_list = []\n",
    "for chunk in chunker(adresse_ids, 20):\n",
    "    adresse_ids_str = '|'.join(chunk)\n",
    "    response_data = get_data_from_api(adresse_ids_str)\n",
    "    if response_data and 'features' in response_data:\n",
    "        for feature in response_data['features']:\n",
    "            properties = feature['properties']\n",
    "            df_list.append(properties)\n",
    "\n",
    "# Convert the list of dictionaries to a DataFrame\n",
    "bfe_df = pd.DataFrame(df_list)\n",
    "print(len(bfe_df))"
   ]
  },
  {
   "cell_type": "code",
   "execution_count": 4,
   "metadata": {},
   "outputs": [],
   "source": [
    "# save to pickle file\n",
    "bfe_df.to_pickle(r\"C:\\Users\\viet-intel\\boligpriser\\data\\output\\EBR\\bfe_100k_150k.pkl\")"
   ]
  },
  {
   "cell_type": "code",
   "execution_count": null,
   "metadata": {},
   "outputs": [],
   "source": []
  }
 ],
 "metadata": {
  "kernelspec": {
   "display_name": "bolig_py38",
   "language": "python",
   "name": "python3"
  },
  "language_info": {
   "codemirror_mode": {
    "name": "ipython",
    "version": 3
   },
   "file_extension": ".py",
   "mimetype": "text/x-python",
   "name": "python",
   "nbconvert_exporter": "python",
   "pygments_lexer": "ipython3",
   "version": "3.8.17"
  },
  "orig_nbformat": 4
 },
 "nbformat": 4,
 "nbformat_minor": 2
}
